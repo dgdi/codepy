{
 "cells": [
  {
   "cell_type": "markdown",
   "metadata": {
    "id": "aEtWoE7opFlQ"
   },
   "source": [
    "<a target=\"_blank\" href=\"https://colab.research.google.com/github/dgdi/codepy_UNIPD/blob/main/notebookos/colab_gdrivelib_setup.ipynb.ipynb\">\n",
    "  <img src=\"https://colab.research.google.com/assets/colab-badge.svg\" alt=\"Open In Colab\"/>\n",
    "</a>\n",
    "\n",
    "\n",
    "## Setting Up a Custom Environment on Google Drive for Colab\n",
    "\n",
    "#### Introduction\n",
    "Google Colab instances come with only a minimal set of pre-installed packages. Even in simple projects (such as the ones of the  university courses you will be attending) there will be instances where a specific Python package you wish to use is not pre-installed.\n",
    "\n",
    "For example, let's say that you ***need*** to use a koala emoji in your notebook. You can do so by importing the library `emoji` and run the command `print(emoji.emojize(':koala:'))`. If you try to run this code, you will get an error `ModuleNotFoundError: No module named 'emoji'` because Python can't find the library."
   ]
  },
  {
   "cell_type": "code",
   "execution_count": null,
   "metadata": {
    "colab": {
     "base_uri": "https://localhost:8080/",
     "height": 347
    },
    "id": "S82-u0HVpFlT",
    "outputId": "82f99cd6-80fc-4c89-c386-76d272d4e93f"
   },
   "outputs": [
    {
     "ename": "ModuleNotFoundError",
     "evalue": "ignored",
     "output_type": "error",
     "traceback": [
      "\u001b[0;31m---------------------------------------------------------------------------\u001b[0m",
      "\u001b[0;31mModuleNotFoundError\u001b[0m                       Traceback (most recent call last)",
      "\u001b[0;32m<ipython-input-2-0d329a46eb67>\u001b[0m in \u001b[0;36m<cell line: 1>\u001b[0;34m()\u001b[0m\n\u001b[0;32m----> 1\u001b[0;31m \u001b[0;32mimport\u001b[0m \u001b[0memoji\u001b[0m  \u001b[0;31m# Not available on default Colab environment\u001b[0m\u001b[0;34m\u001b[0m\u001b[0;34m\u001b[0m\u001b[0m\n\u001b[0m\u001b[1;32m      2\u001b[0m \u001b[0mprint\u001b[0m\u001b[0;34m(\u001b[0m\u001b[0memoji\u001b[0m\u001b[0;34m.\u001b[0m\u001b[0memojize\u001b[0m\u001b[0;34m(\u001b[0m\u001b[0;34m':koala:'\u001b[0m\u001b[0;34m)\u001b[0m\u001b[0;34m)\u001b[0m\u001b[0;34m\u001b[0m\u001b[0;34m\u001b[0m\u001b[0m\n",
      "\u001b[0;31mModuleNotFoundError\u001b[0m: No module named 'emoji'",
      "",
      "\u001b[0;31m---------------------------------------------------------------------------\u001b[0;32m\nNOTE: If your import is failing due to a missing package, you can\nmanually install dependencies using either !pip or !apt.\n\nTo view examples of installing some common dependencies, click the\n\"Open Examples\" button below.\n\u001b[0;31m---------------------------------------------------------------------------\u001b[0m\n"
     ]
    }
   ],
   "source": [
    "import emoji  # Not available on default Colab environment\n",
    "print(emoji.emojize(':koala:'))"
   ]
  },
  {
   "cell_type": "markdown",
   "metadata": {
    "id": "BU0qWYr4pFlT"
   },
   "source": [
    "You can install this library on the Colab instance using the command"
   ]
  },
  {
   "cell_type": "code",
   "execution_count": null,
   "metadata": {
    "colab": {
     "base_uri": "https://localhost:8080/"
    },
    "id": "4HSb1cQN3uck",
    "outputId": "bda2839d-1419-4bdb-8d00-9d5ecba2d932"
   },
   "outputs": [
    {
     "name": "stdout",
     "output_type": "stream",
     "text": [
      "Collecting emoji\n",
      "  Downloading emoji-2.8.0-py2.py3-none-any.whl (358 kB)\n",
      "\u001b[2K     \u001b[90m━━━━━━━━━━━━━━━━━━━━━━━━━━━━━━━━━━━━━━━\u001b[0m \u001b[32m358.9/358.9 kB\u001b[0m \u001b[31m5.5 MB/s\u001b[0m eta \u001b[36m0:00:00\u001b[0m\n",
      "\u001b[?25hInstalling collected packages: emoji\n",
      "Successfully installed emoji-2.8.0\n",
      "🐨\n"
     ]
    }
   ],
   "source": [
    "!pip install emoji\n",
    "import emoji\n",
    "print(emoji.emojize(':koala:'))"
   ]
  },
  {
   "cell_type": "markdown",
   "metadata": {
    "id": "PfaE9X-33rqI"
   },
   "source": [
    "However, instances are temporary, get created on the fly when you open the notebook and destroyed when you close it or after some inactivity. So, next time you will open this notebook on another Colab instance (or if you get disconnected) you will need to install again the library.\n",
    "\n",
    "Try this yourself. Navigate to the upper-right corner of your Colab window, where RAM and Disk usage metrics are displayed, click on the downward-facing arrow and select \"Change runtime.\" You may choose any available option. This action will switch the computational engine (also known as the kernel) powering this notebook. In other words, you are changing  the instance (the computer in the cloud) that is doing the computation \"under the hood\" for your notebook. Given that the new kernel starts with a default configuration that lacks the libraries you previously installed, attempts to display the koala emoji in this new instance will result in an error:\n"
   ]
  },
  {
   "cell_type": "code",
   "execution_count": null,
   "metadata": {
    "colab": {
     "base_uri": "https://localhost:8080/"
    },
    "id": "vU3Q3z2qkehV",
    "outputId": "e9146d5d-da6d-4a04-b8e2-59ada2681f33"
   },
   "outputs": [
    {
     "name": "stdout",
     "output_type": "stream",
     "text": [
      "🐨\n"
     ]
    }
   ],
   "source": [
    "import emoji\n",
    "print(emoji.emojize(':koala:'))"
   ]
  },
  {
   "cell_type": "markdown",
   "metadata": {
    "id": "F2L-NrgnkdO6"
   },
   "source": [
    "The quick and dirty solution is to reinstall the library at every use. However, usually we use multiple packages in a single notebook. Doing the installation of each of them every time you open a new instance is a huge waste of time that we can avoid using different strategies.\n",
    "\n",
    "In this notebook we will see how to set up a Colab environment that stores **persistently** the libraries you need in your GDrive."
   ]
  },
  {
   "cell_type": "markdown",
   "metadata": {
    "id": "iZ1fPZrhpFlU"
   },
   "source": [
    "---\n",
    "\n",
    "#### Step 1: Mount Google Drive\n",
    "\n",
    "First, mount your Google Drive so that Google Colab can access it. A permission dialog will appear, asking you to log in into your google account (use your unipd credentials) to grant Colab access to read and write files on your Drive. Keep in mind that granting this permission gives Colab a lot of power over the content of your GDrive and that may result in security issues. Once you have granted access to Colab, it can read and write on your Gdrive, and a malicious script could wipe out everything It is important that you only run notebooks from sources you trust and that you always understand what the code is doing!. Given the risks involved, each time you mount your Gdrive you will be required to manually grant the permissions."
   ]
  },
  {
   "cell_type": "code",
   "execution_count": null,
   "metadata": {
    "colab": {
     "base_uri": "https://localhost:8080/",
     "height": 352
    },
    "id": "dmu84__GpFlU",
    "outputId": "83d6f23b-3ac8-4085-b0ff-ee13afb457a4"
   },
   "outputs": [
    {
     "ename": "MessageError",
     "evalue": "ignored",
     "output_type": "error",
     "traceback": [
      "\u001b[0;31m---------------------------------------------------------------------------\u001b[0m",
      "\u001b[0;31mMessageError\u001b[0m                              Traceback (most recent call last)",
      "\u001b[0;32m<ipython-input-5-bf1647b42bbd>\u001b[0m in \u001b[0;36m<cell line: 2>\u001b[0;34m()\u001b[0m\n\u001b[1;32m      1\u001b[0m \u001b[0;32mfrom\u001b[0m \u001b[0mgoogle\u001b[0m\u001b[0;34m.\u001b[0m\u001b[0mcolab\u001b[0m \u001b[0;32mimport\u001b[0m \u001b[0mdrive\u001b[0m\u001b[0;34m\u001b[0m\u001b[0;34m\u001b[0m\u001b[0m\n\u001b[0;32m----> 2\u001b[0;31m \u001b[0mdrive\u001b[0m\u001b[0;34m.\u001b[0m\u001b[0mmount\u001b[0m\u001b[0;34m(\u001b[0m\u001b[0;34m\"/content/drive\"\u001b[0m\u001b[0;34m)\u001b[0m\u001b[0;34m\u001b[0m\u001b[0;34m\u001b[0m\u001b[0m\n\u001b[0m",
      "\u001b[0;32m/usr/local/lib/python3.10/dist-packages/google/colab/drive.py\u001b[0m in \u001b[0;36mmount\u001b[0;34m(mountpoint, force_remount, timeout_ms, readonly)\u001b[0m\n\u001b[1;32m    101\u001b[0m \u001b[0;32mdef\u001b[0m \u001b[0mmount\u001b[0m\u001b[0;34m(\u001b[0m\u001b[0mmountpoint\u001b[0m\u001b[0;34m,\u001b[0m \u001b[0mforce_remount\u001b[0m\u001b[0;34m=\u001b[0m\u001b[0;32mFalse\u001b[0m\u001b[0;34m,\u001b[0m \u001b[0mtimeout_ms\u001b[0m\u001b[0;34m=\u001b[0m\u001b[0;36m120000\u001b[0m\u001b[0;34m,\u001b[0m \u001b[0mreadonly\u001b[0m\u001b[0;34m=\u001b[0m\u001b[0;32mFalse\u001b[0m\u001b[0;34m)\u001b[0m\u001b[0;34m:\u001b[0m\u001b[0;34m\u001b[0m\u001b[0;34m\u001b[0m\u001b[0m\n\u001b[1;32m    102\u001b[0m   \u001b[0;34m\"\"\"Mount your Google Drive at the specified mountpoint path.\"\"\"\u001b[0m\u001b[0;34m\u001b[0m\u001b[0;34m\u001b[0m\u001b[0m\n\u001b[0;32m--> 103\u001b[0;31m   return _mount(\n\u001b[0m\u001b[1;32m    104\u001b[0m       \u001b[0mmountpoint\u001b[0m\u001b[0;34m,\u001b[0m\u001b[0;34m\u001b[0m\u001b[0;34m\u001b[0m\u001b[0m\n\u001b[1;32m    105\u001b[0m       \u001b[0mforce_remount\u001b[0m\u001b[0;34m=\u001b[0m\u001b[0mforce_remount\u001b[0m\u001b[0;34m,\u001b[0m\u001b[0;34m\u001b[0m\u001b[0;34m\u001b[0m\u001b[0m\n",
      "\u001b[0;32m/usr/local/lib/python3.10/dist-packages/google/colab/drive.py\u001b[0m in \u001b[0;36m_mount\u001b[0;34m(mountpoint, force_remount, timeout_ms, ephemeral, readonly)\u001b[0m\n\u001b[1;32m    130\u001b[0m   )\n\u001b[1;32m    131\u001b[0m   \u001b[0;32mif\u001b[0m \u001b[0mephemeral\u001b[0m\u001b[0;34m:\u001b[0m\u001b[0;34m\u001b[0m\u001b[0;34m\u001b[0m\u001b[0m\n\u001b[0;32m--> 132\u001b[0;31m     _message.blocking_request(\n\u001b[0m\u001b[1;32m    133\u001b[0m         \u001b[0;34m'request_auth'\u001b[0m\u001b[0;34m,\u001b[0m \u001b[0mrequest\u001b[0m\u001b[0;34m=\u001b[0m\u001b[0;34m{\u001b[0m\u001b[0;34m'authType'\u001b[0m\u001b[0;34m:\u001b[0m \u001b[0;34m'dfs_ephemeral'\u001b[0m\u001b[0;34m}\u001b[0m\u001b[0;34m,\u001b[0m \u001b[0mtimeout_sec\u001b[0m\u001b[0;34m=\u001b[0m\u001b[0;32mNone\u001b[0m\u001b[0;34m\u001b[0m\u001b[0;34m\u001b[0m\u001b[0m\n\u001b[1;32m    134\u001b[0m     )\n",
      "\u001b[0;32m/usr/local/lib/python3.10/dist-packages/google/colab/_message.py\u001b[0m in \u001b[0;36mblocking_request\u001b[0;34m(request_type, request, timeout_sec, parent)\u001b[0m\n\u001b[1;32m    174\u001b[0m       \u001b[0mrequest_type\u001b[0m\u001b[0;34m,\u001b[0m \u001b[0mrequest\u001b[0m\u001b[0;34m,\u001b[0m \u001b[0mparent\u001b[0m\u001b[0;34m=\u001b[0m\u001b[0mparent\u001b[0m\u001b[0;34m,\u001b[0m \u001b[0mexpect_reply\u001b[0m\u001b[0;34m=\u001b[0m\u001b[0;32mTrue\u001b[0m\u001b[0;34m\u001b[0m\u001b[0;34m\u001b[0m\u001b[0m\n\u001b[1;32m    175\u001b[0m   )\n\u001b[0;32m--> 176\u001b[0;31m   \u001b[0;32mreturn\u001b[0m \u001b[0mread_reply_from_input\u001b[0m\u001b[0;34m(\u001b[0m\u001b[0mrequest_id\u001b[0m\u001b[0;34m,\u001b[0m \u001b[0mtimeout_sec\u001b[0m\u001b[0;34m)\u001b[0m\u001b[0;34m\u001b[0m\u001b[0;34m\u001b[0m\u001b[0m\n\u001b[0m",
      "\u001b[0;32m/usr/local/lib/python3.10/dist-packages/google/colab/_message.py\u001b[0m in \u001b[0;36mread_reply_from_input\u001b[0;34m(message_id, timeout_sec)\u001b[0m\n\u001b[1;32m    101\u001b[0m     ):\n\u001b[1;32m    102\u001b[0m       \u001b[0;32mif\u001b[0m \u001b[0;34m'error'\u001b[0m \u001b[0;32min\u001b[0m \u001b[0mreply\u001b[0m\u001b[0;34m:\u001b[0m\u001b[0;34m\u001b[0m\u001b[0;34m\u001b[0m\u001b[0m\n\u001b[0;32m--> 103\u001b[0;31m         \u001b[0;32mraise\u001b[0m \u001b[0mMessageError\u001b[0m\u001b[0;34m(\u001b[0m\u001b[0mreply\u001b[0m\u001b[0;34m[\u001b[0m\u001b[0;34m'error'\u001b[0m\u001b[0;34m]\u001b[0m\u001b[0;34m)\u001b[0m\u001b[0;34m\u001b[0m\u001b[0;34m\u001b[0m\u001b[0m\n\u001b[0m\u001b[1;32m    104\u001b[0m       \u001b[0;32mreturn\u001b[0m \u001b[0mreply\u001b[0m\u001b[0;34m.\u001b[0m\u001b[0mget\u001b[0m\u001b[0;34m(\u001b[0m\u001b[0;34m'data'\u001b[0m\u001b[0;34m,\u001b[0m \u001b[0;32mNone\u001b[0m\u001b[0;34m)\u001b[0m\u001b[0;34m\u001b[0m\u001b[0;34m\u001b[0m\u001b[0m\n\u001b[1;32m    105\u001b[0m \u001b[0;34m\u001b[0m\u001b[0m\n",
      "\u001b[0;31mMessageError\u001b[0m: Error: credential propagation was unsuccessful"
     ]
    }
   ],
   "source": [
    "from google.colab import drive\n",
    "drive.mount(\"/content/drive\")"
   ]
  },
  {
   "cell_type": "markdown",
   "metadata": {
    "id": "8gSHEwbltUJK"
   },
   "source": [
    "Once the drive is mounted, you can see its contents by clicking the folder icon on the left shoulder of this page. So, if you to store the notebooks of the course on Gdrive it is very easy accessing them."
   ]
  },
  {
   "cell_type": "markdown",
   "metadata": {
    "id": "N1OYkup7pFlU"
   },
   "source": [
    "---\n",
    "\n",
    "#### Step 2: Install Virtual Environment Package\n",
    "\n",
    "Install the `Venv` package to manage isolated Python environments. Remember that an environment specifies the interpreter used and defines its fundamental settings. Among these setting we are particularly interested at the location where the libraries are stored."
   ]
  },
  {
   "cell_type": "code",
   "execution_count": null,
   "metadata": {
    "id": "040D4aEupFlV"
   },
   "outputs": [],
   "source": [
    "!pip install virtualenv"
   ]
  },
  {
   "cell_type": "markdown",
   "metadata": {
    "id": "_rTTrkcLpFlV"
   },
   "source": [
    "---\n",
    "\n",
    "#### Step 3: Create a Virtual Environment\n",
    "\n",
    "Next, you need to specify the path in your Google Drive where you'd like to create the virtual environment (where to store the interpreter and the other settings). The notebooks of this course will use `\"/content/drive/MyDrive/codepy\"` as a default one. If you are changing this, you will need to update accordingly the other notebooks (my advice is to just keep this and the following defaults)"
   ]
  },
  {
   "cell_type": "code",
   "execution_count": null,
   "metadata": {
    "id": "sUArIApSpFlV"
   },
   "outputs": [],
   "source": [
    "venv_path = \"/content/drive/MyDrive/codepy\"\n",
    "!virtualenv $venv_path"
   ]
  },
  {
   "cell_type": "markdown",
   "metadata": {
    "id": "cfehnsOnpFlW"
   },
   "source": [
    "---\n",
    "\n",
    "#### Step 4: Activate the Virtual Environment\n",
    "\n",
    "Activate the virtual environment you've just created. By doing so you are telling the notebook that this environment is the one to use."
   ]
  },
  {
   "cell_type": "code",
   "execution_count": null,
   "metadata": {
    "id": "fh8NuW7apFlW"
   },
   "outputs": [],
   "source": [
    "venvBin_path = \"/content/drive/MyDrive/codepy/bin/activate\"\n",
    "!source $venvBin_path"
   ]
  },
  {
   "cell_type": "markdown",
   "metadata": {
    "id": "sSKu4mG0pFlW"
   },
   "source": [
    "---\n",
    "\n",
    "#### Step 5: Install Desired Packages\n",
    "\n",
    "Identify the folder in your Google Drive where you'd like to store libraries, and then install the `emoji` package there by using the option `target`."
   ]
  },
  {
   "cell_type": "code",
   "execution_count": null,
   "metadata": {
    "id": "EbDLiFWUpFlW"
   },
   "outputs": [],
   "source": [
    "import sys\n",
    "colabLib_path = \"/content/drive/MyDrive/codepy/lib/python3.10/site-packages\"\n",
    "!pip install --target=$colabLib_path emoji"
   ]
  },
  {
   "cell_type": "markdown",
   "metadata": {
    "id": "4WFMzFsKpFlW"
   },
   "source": [
    "---\n",
    "\n",
    "#### Step 6: Update System Path\n",
    "\n",
    "Add the library path to the system path so that Colab can find the newly installed packages. In this way the current notebook knows where to find the libraries."
   ]
  },
  {
   "cell_type": "code",
   "execution_count": null,
   "metadata": {
    "id": "_HPV5A8wpFlW"
   },
   "outputs": [],
   "source": [
    "import sys\n",
    "sys.path.append(colabLib_path)"
   ]
  },
  {
   "cell_type": "markdown",
   "metadata": {
    "id": "7ppbs78RpFlW"
   },
   "source": [
    "---\n",
    "\n",
    "#### Step 7: Test the Setup\n",
    "\n",
    "Now you can happily import and use the `emoji` library to print a koala emoji."
   ]
  },
  {
   "cell_type": "code",
   "execution_count": null,
   "metadata": {
    "id": "TXvAvU4LpFlW"
   },
   "outputs": [],
   "source": [
    "import emoji\n",
    "print(emoji.emojize(':koala:'))"
   ]
  },
  {
   "cell_type": "markdown",
   "metadata": {
    "id": "IRcJQdlY6KPM"
   },
   "source": []
  },
  {
   "cell_type": "markdown",
   "metadata": {
    "id": "aZ_2IsY1pFlW"
   },
   "source": [
    "---\n",
    "\n",
    "#### Using the Custom Environment in Future Sessions\n",
    "\n",
    "The procedure we followed stored the he virtual environment and libraries on your Google Drive. When you will start a new instance you will need to make them accessible to Colab by telling it that you whis to use them and where to find them. Specifically, you'll need to:\n",
    "\n",
    " 1.   Mount your Google Drive to make it accessible\n",
    " 2.   Activate the previously created virtual environment\n",
    " 3.   Tell the environment to search for libraries in your Google Drive\n",
    "\n",
    "---\n"
   ]
  },
  {
   "cell_type": "code",
   "execution_count": 1,
   "metadata": {
    "colab": {
     "base_uri": "https://localhost:8080/"
    },
    "id": "5JBGy6akpFlX",
    "outputId": "8f8dc658-b943-457c-cc5e-5b66f37ee388"
   },
   "outputs": [
    {
     "name": "stdout",
     "output_type": "stream",
     "text": [
      "Mounted at /content/drive\n"
     ]
    }
   ],
   "source": [
    "import sys\n",
    "from google.colab import drive\n",
    "drive.mount(\"/content/drive\")\n",
    "venvBin_path = \"/content/drive/MyDrive/codepy/bin/activate\"\n",
    "!source $venvBin_path\n",
    "colabLib_path = \"/content/drive/MyDrive/codepy/lib/python3.10/site-packages\"\n",
    "sys.path.append(colabLib_path)\n"
   ]
  },
  {
   "cell_type": "markdown",
   "metadata": {
    "id": "pYK6jfr-rsVW"
   },
   "source": [
    "Once that is set up, you will be ablo to import the libraries and **happily** print your koala emoji without re-installing the library"
   ]
  },
  {
   "cell_type": "code",
   "execution_count": 2,
   "metadata": {
    "colab": {
     "base_uri": "https://localhost:8080/"
    },
    "id": "lqnIrZOSpFlX",
    "outputId": "963f1eec-94fe-427d-ade3-0f4828209934"
   },
   "outputs": [
    {
     "name": "stdout",
     "output_type": "stream",
     "text": [
      "🐨\n"
     ]
    }
   ],
   "source": [
    "import emoji\n",
    "print(emoji.emojize(':koala:'))"
   ]
  },
  {
   "cell_type": "markdown",
   "metadata": {
    "id": "pbdG9Y9ysztj"
   },
   "source": [
    "## Create a custom environment with all the libraries for this course\n",
    "\n",
    "To be sure to set things properly, start a new instance now. Navigate to the upper-right corner of your Colab window, where RAM and Disk usage metrics are displayed, click on the downward-facing arrow and select \"Change runtime.\" You may choose any available option.\n",
    "\n",
    "Now run the code below to will install all the packages needed in the course."
   ]
  },
  {
   "cell_type": "code",
   "execution_count": 3,
   "metadata": {
    "colab": {
     "base_uri": "https://localhost:8080/"
    },
    "id": "mWYx2Ml6phO1",
    "outputId": "aa69bde8-b128-4e98-9403-1dcf9551023f"
   },
   "outputs": [
    {
     "name": "stdout",
     "output_type": "stream",
     "text": [
      "Drive already mounted at /content/drive; to attempt to forcibly remount, call drive.mount(\"/content/drive\", force_remount=True).\n",
      "Collecting virtualenv\n",
      "  Downloading virtualenv-20.24.5-py3-none-any.whl (3.7 MB)\n",
      "\u001b[2K     \u001b[90m━━━━━━━━━━━━━━━━━━━━━━━━━━━━━━━━━━━━━━━━\u001b[0m \u001b[32m3.7/3.7 MB\u001b[0m \u001b[31m19.1 MB/s\u001b[0m eta \u001b[36m0:00:00\u001b[0m\n",
      "\u001b[?25hCollecting distlib<1,>=0.3.7 (from virtualenv)\n",
      "  Downloading distlib-0.3.7-py2.py3-none-any.whl (468 kB)\n",
      "\u001b[2K     \u001b[90m━━━━━━━━━━━━━━━━━━━━━━━━━━━━━━━━━━━━━━\u001b[0m \u001b[32m468.9/468.9 kB\u001b[0m \u001b[31m28.1 MB/s\u001b[0m eta \u001b[36m0:00:00\u001b[0m\n",
      "\u001b[?25hRequirement already satisfied: filelock<4,>=3.12.2 in /usr/local/lib/python3.10/dist-packages (from virtualenv) (3.12.2)\n",
      "Requirement already satisfied: platformdirs<4,>=3.9.1 in /usr/local/lib/python3.10/dist-packages (from virtualenv) (3.10.0)\n",
      "Installing collected packages: distlib, virtualenv\n",
      "Successfully installed distlib-0.3.7 virtualenv-20.24.5\n",
      "created virtual environment CPython3.10.12.final.0-64 in 15047ms\n",
      "  creator CPython3Posix(dest=/content/drive/MyDrive/codepy, clear=False, no_vcs_ignore=False, global=False)\n",
      "  seeder FromAppData(download=False, pip=bundle, setuptools=bundle, wheel=bundle, via=copy, app_data_dir=/root/.local/share/virtualenv)\n",
      "    added seed packages: emoji==2.8.0, pip==23.2.1, setuptools==68.2.0, wheel==0.41.2\n",
      "  activators BashActivator,CShellActivator,FishActivator,NushellActivator,PowerShellActivator,PythonActivator\n",
      "Collecting jsondate\n",
      "  Downloading jsondate-0.1.2.tar.gz (3.5 kB)\n",
      "  Preparing metadata (setup.py) ... \u001b[?25l\u001b[?25hdone\n",
      "Building wheels for collected packages: jsondate\n",
      "  Building wheel for jsondate (setup.py) ... \u001b[?25l\u001b[?25hdone\n",
      "  Created wheel for jsondate: filename=jsondate-0.1.2-py3-none-any.whl size=3755 sha256=0f3816022e3d97772d429c1ebd03c61689478f120f37e3fe14de72fd9d497093\n",
      "  Stored in directory: /root/.cache/pip/wheels/92/9c/b3/dd6fe26644e854f56de7274d10d75e999e3cbc05d6f20faad2\n",
      "Successfully built jsondate\n",
      "Installing collected packages: jsondate\n",
      "Successfully installed jsondate-0.1.2\n",
      "Collecting jsondiff\n",
      "  Downloading jsondiff-2.0.0-py3-none-any.whl (6.6 kB)\n",
      "Installing collected packages: jsondiff\n",
      "Successfully installed jsondiff-2.0.0\n"
     ]
    }
   ],
   "source": [
    "#mounting Gdrive\n",
    "from google.colab import drive\n",
    "drive.mount(\"/content/drive\")\n",
    "#install virtualenv\n",
    "!pip install virtualenv\n",
    "#set path in Gdrive where to store the custom environment\n",
    "venv_path = \"/content/drive/MyDrive/codepy\"\n",
    "#create custom environment\n",
    "!virtualenv $venv_path\n",
    "#set virtual enviroment activation folder\n",
    "venvBin_path = \"/content/drive/MyDrive/codepy/bin/activate\"\n",
    "#activate environment\n",
    "!source $venvBin_path\n",
    "#set the path where the environment will store the libraries\n",
    "colabLib_path = \"/content/drive/MyDrive/codepy/lib/python3.10/site-packages\"\n",
    "#set the libraries to install\n",
    "libraries_to_install = [\"jsondate\", \"jsondiff\"]\n",
    "#install all the libraries in the custom path for libraries\n",
    "for lib in libraries_to_install:\n",
    "    !pip install --target=$colabLib_path {lib}\n",
    "#add the library path to the ones where the instance will search for libraries\n",
    "import sys\n",
    "sys.path.append(colabLib_path)\n",
    "#test that the installed libraries can be imported\n",
    "import jsondate\n",
    "import jsondiff"
   ]
  },
  {
   "cell_type": "markdown",
   "metadata": {
    "id": "gFU3_y8Tuvv3"
   },
   "source": [
    "That's it, done, you have set up your custom environment on Gdrive so that you can use it with Colab. At the beginning of each notebook of the course you will find a cell that sets up the Gdrive environment. This code will be stored in a markdown cell, because those using the VLEM or with a local installation of anaconda will not need it. But if you chose to use Colab, simply convert it to code and run it. Remember that this will only work if you did not change the default paths during this installation, otherwise you will need to change the paths also in the other notebooks"
   ]
  },
  {
   "cell_type": "markdown",
   "metadata": {
    "id": "zP3o35fbsref"
   },
   "source": [
    "If you had problems in running the code in the right order or you think you did some mistake in the installation the simplest solution is to go to your drive, delete the custom environment folder (the default name is `\"codepy\"`), start a brand new instance in a new window and re-do the installation."
   ]
  },
  {
   "cell_type": "code",
   "execution_count": null,
   "metadata": {
    "id": "27zLbxCwmisE"
   },
   "outputs": [],
   "source": []
  }
 ],
 "metadata": {
  "colab": {
   "provenance": []
  },
  "kernelspec": {
   "display_name": "Python 3 (ipykernel)",
   "language": "python",
   "name": "python3"
  },
  "language_info": {
   "codemirror_mode": {
    "name": "ipython",
    "version": 3
   },
   "file_extension": ".py",
   "mimetype": "text/x-python",
   "name": "python",
   "nbconvert_exporter": "python",
   "pygments_lexer": "ipython3",
   "version": "3.9.18"
  }
 },
 "nbformat": 4,
 "nbformat_minor": 1
}

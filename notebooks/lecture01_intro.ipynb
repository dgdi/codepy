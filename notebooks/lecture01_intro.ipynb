{
 "cells": [
  {
   "cell_type": "markdown",
   "id": "d21a2949",
   "metadata": {
    "slideshow": {
     "slide_type": "fragment"
    }
   },
   "source": [
    "<a target=\"_blank\" href=\"https://colab.research.google.com/github/dgdi/codepy_UNIPD/blob/main/notebooks/lecture01_intro.ipynb\">\n",
    "  <img src=\"https://colab.research.google.com/assets/colab-badge.svg\" alt=\"Open In Colab\"/>\n",
    "</a>"
   ]
  },
  {
   "cell_type": "markdown",
   "id": "70e014a8-4f47-4d2d-becc-fb6b149a478d",
   "metadata": {
    "slideshow": {
     "slide_type": "slide"
    }
   },
   "source": [
    "# Lecture 1: Introduction \n",
    "\n",
    "#### Coding: Introduction to Python - Applied Economics\n",
    "#### Laboratory: Coding - Accounting, Finance and Business Consulting"
   ]
  },
  {
   "cell_type": "markdown",
   "id": "d875f43b",
   "metadata": {
    "slideshow": {
     "slide_type": "slide"
    }
   },
   "source": [
    "### Coding\n",
    "\n",
    "* In this course you will learn the fundamentals of coding\n",
    "* Coding is how we communicate with computers\n",
    "  + **Allows you to tell a computer what actions to perform**\n",
    "  + Making you able to exploit the opportunities offered by computers\n",
    "* We will mainly focus on data analysis\n",
    "  + Digital revolution brought unprecedented amount of data and analytics is the key to extract knowledge/value from it\n",
    "* Coding defines an **algorithm** to be performed by the computer\n",
    "  + An algorithm is a set of instructions for solving a problem or accomplishing a task"
   ]
  },
  {
   "cell_type": "markdown",
   "id": "97f0abb1",
   "metadata": {
    "slideshow": {
     "slide_type": "slide"
    }
   },
   "source": [
    "### This Course - Timetable and Office Hours\n",
    "\n",
    "**Coding: Introduction to Python**  \n",
    "Monday  \n",
    "16:30 - 18:30\n",
    "\n",
    "**Laboratory: Coding**  \n",
    "Tuesday  \n",
    "12:30 - 14:30\n",
    "\n",
    "**Office Hours:**  \n",
    "See on my [website](http://www.dgdi.me/#teaching)  \n",
    "Dsea, via del Santo 33, first office on the left entering the Levi Cases inner garden"
   ]
  },
  {
   "cell_type": "markdown",
   "id": "50f59b44",
   "metadata": {
    "slideshow": {
     "slide_type": "slide"
    }
   },
   "source": [
    "### This Course - Objective and Topics\n",
    "\n",
    "An introductory course giving you the tools to carry out a simple data analysis in Python\n",
    "\n",
    "\n",
    "Tentative list of topics:\n",
    "\n",
    "- Introduction to algorithms\n",
    "- Setting up your python environment\n",
    "- Basics and main data types \n",
    "- Numpy  \n",
    "- Pandas and dataframes\n",
    "- Data import and export\n",
    "- Loops and iteration\n",
    "- Data description and visualization\n",
    "- Data analysis example\n"
   ]
  },
  {
   "cell_type": "markdown",
   "id": "e84ca06e",
   "metadata": {
    "slideshow": {
     "slide_type": "slide"
    }
   },
   "source": [
    "### This Course - Evaluation - Notions\n",
    "\n",
    "Pass/Fail exam at the LEM\n",
    "\n",
    "Closed-ended multiple-choice questions\n",
    "\n",
    "* Testing your knowledge of the language \n",
    "    - Given `var_a = 'True'`, what type of data is the variable `var_a` ?   \n",
    "    1. Boolean\n",
    "    2. String\n",
    "    3. Integer\n",
    "    4. Float\n"
   ]
  },
  {
   "cell_type": "markdown",
   "id": "121b8eb3",
   "metadata": {
    "slideshow": {
     "slide_type": "slide"
    }
   },
   "source": [
    "### This Course - Evaluation - Understanding\n",
    "\n",
    "Pass/Fail exam at the LEM\n",
    "\n",
    "Closed-ended multiple-choice questions\n",
    "\n",
    "* Testing the understanding of the language   \n",
    "    - what is the output of `var_a = 1; var_b = 2; var_c = var_a + var_b; print(var_c)`?\n",
    "    1. 1\n",
    "    2. 2\n",
    "    3. 3\n",
    "    4. \"error\""
   ]
  },
  {
   "cell_type": "markdown",
   "id": "c120cc29",
   "metadata": {
    "slideshow": {
     "slide_type": "slide"
    }
   },
   "source": [
    "### This Course - Evaluation - Errors\n",
    "\n",
    "Pass/Fail exam at the LEM\n",
    "\n",
    "Closed-ended multiple-choice questions\n",
    "\n",
    "* Testing the ability to spot errors in the code   \n",
    "    - what is the first error that will be raised by `var_a = 1; var_b = \"two\"; var_c = var_a + var_b; print(var_d)`?\n",
    "    1. `NameError: name 'var_d' is not defined\n",
    "    2. TypeError: unsupported operand type(s) for +: 'int' and 'str'\n",
    "    3. TypeError: unsupported operand type(s) for +: 'float' and 'str'\n",
    "    4. SyntaxError: EOL while scanning string literal"
   ]
  },
  {
   "cell_type": "markdown",
   "id": "f0c06de0",
   "metadata": {
    "slideshow": {
     "slide_type": "slide"
    }
   },
   "source": [
    "### This Course - How to prepare?\n",
    "\n",
    "The course is not designed to be absorbed passively\n",
    "\n",
    "Clearly the basis is reading, understanding and being able to recall the material\n",
    "\n",
    "- The material is going to be available in Notebook format (`.ipynb` files) that include explanations, code, and code output \n",
    "   - You will be able to run the code and modify it to test your understanding  \n"
   ]
  },
  {
   "cell_type": "markdown",
   "id": "a33c0edd",
   "metadata": {
    "slideshow": {
     "slide_type": "slide"
    }
   },
   "source": [
    "### This Course - How to prepare?\n",
    "\n",
    "- As you progress with the material you should experiment with the tools and syntax we cover\n",
    "   - Simply reading the material will not be enough\n",
    "   - Coding is a practical endeavour \n",
    "      - You can gain \"muscle\" memory from doing things instead of just memorizing concepts\n",
    "- I will be proposing exercises for each topic\n",
    "   - Solving them is very important to test your understanding\n",
    "   - Crucial to get prepared for the exam\n",
    "   - Usually teach you how to do basic (and crucial) tasks that you might need in other courses"
   ]
  },
  {
   "cell_type": "markdown",
   "id": "1c243623",
   "metadata": {
    "slideshow": {
     "slide_type": "slide"
    }
   },
   "source": [
    "### This Course - Books and Additional Material\n",
    "\n",
    "The course relies on material from a variety of sources, such as books, software documentation, online tutorials, blogposts, etc.\n",
    "\n",
    "The main sources of the material in this course are two ***great and free*** books:\n",
    "\n",
    "[Python for Data Analysis](https://wesmckinney.com/book/) by Wes McKinney\n",
    "\n",
    "[Python Data Science Handbook](https://jakevdp.github.io/PythonDataScienceHandbook/) by Jake VanderPlas\n",
    "\n",
    "During the course, I will provide links to additional material that might help in understanding the topics covered"
   ]
  },
  {
   "cell_type": "markdown",
   "id": "eb50c993",
   "metadata": {
    "slideshow": {
     "slide_type": "slide"
    }
   },
   "source": [
    "### Coding, what are we talking about?\n",
    "\n",
    "Coding is the process of writing instructions for a computer to perform\n",
    " * When we code we define an **algorithm** to be performed by the computer\n",
    " * An algorithm is a set of instructions for solving a problem or accomplishing a task\n",
    " * A data analysis is a set of algorithms to be performed on data:\n",
    "    - Importing data\n",
    "    - Cleaning data\n",
    "    - Describing data\n",
    "    - Visualizing data\n"
   ]
  },
  {
   "cell_type": "markdown",
   "id": "a1e6dbc2",
   "metadata": {
    "slideshow": {
     "slide_type": "slide"
    }
   },
   "source": [
    "### Coding, what are we talking about?\n",
    "* In this process you usually start with some questions that you want to answer with the data  \n",
    "    - Define the steps needed to answer those questions\n",
    "    - Write the code and run it to get the answers \n",
    "    - While doing so you will learn more about the data and the questions you are asking\n",
    "        - Adjust your original questions and the steps needed to answer them\n",
    "    - This is an iterative process that leads to the final analysis\n",
    "    - The final analysis will be a set of algorithms that you can run on new data to get the answers to your questions\n",
    "    - Answers to your questions will be descriptive statistics, plots, tables, statistical tests, etc."
   ]
  },
  {
   "cell_type": "markdown",
   "id": "f7cc448c",
   "metadata": {
    "slideshow": {
     "slide_type": "slide"
    }
   },
   "source": [
    "### Computers, a Simplification\n",
    "\n",
    "\n",
    "- Computers basic pieces are   \n",
    "   - Memory: used to store information  \n",
    "   - Central Processing Unit (CPU): used to perform operations on the information stored in memory  \n",
    "- Numbers (integers) are the only thing that computer memory can store and the CPU can manipulate  \n"
   ]
  },
  {
   "cell_type": "markdown",
   "id": "71bab153",
   "metadata": {
    "slideshow": {
     "slide_type": "slide"
    }
   },
   "source": [
    "### Computer, Code and Interpreters\n",
    "\n",
    "- **How can we program a computer to execute a specific algorithm?**  \n",
    "    - To be executed, an algorithm is converted into a sequence of instructions that are valid for a specific CPU (Intel processors, ARM processors, etc.)  \n",
    "     - The instructions are written in some **high-level language** (C, Python, R, etc.) that is easier to understand for humans  \n",
    "     - An intereter (or compiler) transforms the high-level language into machine code (a sequence of numbers) that can be executed the computer  \n",
    "    - In this course we will define a series of these tasks, and write in the Python language to be executed by the computer  "
   ]
  },
  {
   "cell_type": "markdown",
   "id": "51572c7e",
   "metadata": {
    "slideshow": {
     "slide_type": "slide"
    }
   },
   "source": [
    "### Representing Complex Data as Integers\n",
    "\n",
    "- If computer can only store and process integers, how come that we have and manipulate text, images, videos, etc. on our devices?\n",
    "    - Computer scientists have devised clever rules (or conventions, or **standards**) to encode a specific type of data into a sequence of integers\n",
    "    - Data that is analog by nature (ex an image, a sound, etc) must first be digitized:\n",
    "         - Bitmap images encode images as a grid of pixels, each pixel is a number representing the color\n",
    "         - Text is encoded as a sequence of numbers representing the characters in the text\n",
    "- Always losing some information in the process\n",
    "    - The more information you want to store, the more memory you need\n",
    "    - The level of current technology allows us to have indistinguishable quality from the original analog data e.g., retina display\n",
    "\n"
   ]
  },
  {
   "cell_type": "markdown",
   "id": "d38ed2c1",
   "metadata": {
    "slideshow": {
     "slide_type": "slide"
    }
   },
   "source": [
    "### CPU can only do basic operations\n",
    "\n",
    "- CPU can only perform basic operations on integers\n",
    "    - Addition, subtraction, multiplication, division, etc.\n",
    "    - Comparison: equal, greater than, less than, etc.\n",
    "    - Logical operations: and, or, not, etc.\n"
   ]
  },
  {
   "cell_type": "markdown",
   "id": "18421e61",
   "metadata": {
    "slideshow": {
     "slide_type": "slide"
    }
   },
   "source": [
    "### A Very Simple Representation of a Computer\n",
    "\n",
    "To understand how a computer works, we can think of a very simple representation:\n",
    "  - **Memory** is represented by a set of boxes\n",
    "    - Each box has a label and contains a number\n",
    "    - The label is the address of the box\n",
    "  - **CPU** is represented by Tom \n",
    "    - Tom must sequentially execute instructions that operate on the box content\n",
    "    - Tom can do a lot of these operations on the box content, never does mistakes and never gets tired \n",
    "\n",
    "\n",
    "![](img/game2.png)\n",
    "\n"
   ]
  },
  {
   "cell_type": "markdown",
   "id": "0ee1571b",
   "metadata": {
    "slideshow": {
     "slide_type": "slide"
    }
   },
   "source": [
    "### A Very Simple Representation of a Computer \n",
    "\n",
    "* Add the number contained in box #2 to the number contained in box #4 and place the result in box #5\n",
    "  \n",
    "\n",
    "![](img/game3.png)\n"
   ]
  },
  {
   "cell_type": "markdown",
   "id": "5fa44b17",
   "metadata": {
    "slideshow": {
     "slide_type": "slide"
    }
   },
   "source": [
    "### A Very Simple Representation of a Computer   \n",
    "\n",
    "* Another example:\n",
    "  + Subtract the number contained in box #4 to the number contained in box #3 and place the result in box #2\n",
    "\n",
    "\n",
    "![](img/game4.png)\n"
   ]
  },
  {
   "cell_type": "markdown",
   "id": "a53433e2",
   "metadata": {
    "slideshow": {
     "slide_type": "slide"
    }
   },
   "source": [
    "### A Very Simple Representation of a Computer \n",
    "\n",
    "* Another example:\n",
    "  + If box #8 is greater than zero, put number 10 in box #7. Do nothing otherwise\n",
    "\n",
    "\n",
    "![](img/game5.png)\n",
    "\n"
   ]
  },
  {
   "cell_type": "markdown",
   "id": "154e69d1",
   "metadata": {
    "slideshow": {
     "slide_type": "slide"
    }
   },
   "source": [
    "### Writing an algorithm \n",
    "\n",
    "- How can we perform **complex** operations on **complex** data?\n",
    "    - We need to know the actions you want the computer to perform \n",
    "    - The order (and cases) those actions should be performed in\n",
    "- A well thought-out, step-by-step solution to the problem\n",
    "    - Writing an algorithm is \"finding a way\" to get to our goal using the operations offered by the language\n",
    "    - To code you need:\n",
    "        - A thorough understanding of the problem\n",
    "        - A well thought-out, step-by-step solution to the problem\n",
    "        - Knowledge of a computer language to implement the solution\n"
   ]
  },
  {
   "cell_type": "markdown",
   "id": "a1e3d7d1",
   "metadata": {
    "slideshow": {
     "slide_type": "slide"
    }
   },
   "source": [
    "### Coding is Problem Solving Plus Implementation\n",
    "\n",
    "The usual phases of algorithm's writing are:\n",
    "\n",
    "1. **Analyze** the problem\n",
    "2. **Devise** different solutions to the problem\n",
    "3. **Design** an approach that will solve\n",
    "4. **Implement** that design - Translate the algorithm into a programming language\n",
    "5. **Test** to see if it works"
   ]
  },
  {
   "cell_type": "markdown",
   "id": "e69f89b6",
   "metadata": {
    "slideshow": {
     "slide_type": "slide"
    }
   },
   "source": [
    "### Pseudocode\n",
    "\n",
    "- During the design of an algorithm you should be able to decompose it in well-thought series of steps\n",
    "    - This is called **Pseudocode** - simply an implementation of the algorithm in  plain English\n",
    "    -  Not actual programming language — can’t be compiled or interpreted by the computer\n",
    "    -  Allows you to focus on the logic of the algorithm - no distraction by details of the programming language\n",
    "    - It describes the logic/steps of the algorithm - implementation becomes a simple translation into code"
   ]
  },
  {
   "cell_type": "markdown",
   "id": "897528fc",
   "metadata": {
    "slideshow": {
     "slide_type": "slide"
    }
   },
   "source": [
    "### A Simple Algorithm\n",
    "\n",
    "- Let's say that our goal is to implement the division operation on our computer\n",
    "    - We want our computer to be able to divide two numbers $m/n$ and return the results: quotient and remainder\n",
    "- We only have the computer as described above:\n",
    " - Can only store store integers\n",
    " - Can only perform addition, subtraction and conditional checks on integers \n"
   ]
  },
  {
   "cell_type": "markdown",
   "id": "c54743aa",
   "metadata": {
    "slideshow": {
     "slide_type": "slide"
    }
   },
   "source": [
    "### A Very Simple Representation of a Simple Algorithm \n",
    "\n",
    "First, we need to define how the  numbers of our problem will be stored in the boxes  \n",
    "- **Inputs**:\n",
    "    * Content of box #1 is called **dividend**\n",
    "    * Content of box #2 is called **divisor**  \n",
    "- **Outputs**:  \n",
    "    * Content of box #3 is called **quotient**\n",
    "    * Content of box #4 is called **remainder**\n",
    "\n",
    "* The only instructions that Tom can perform are:\n",
    "    * Place a number in a box\n",
    "    * Sum/Subtract\n",
    "    * Compare if a number contained in a box is greater than another"
   ]
  },
  {
   "cell_type": "markdown",
   "id": "3b466ef0",
   "metadata": {
    "slideshow": {
     "slide_type": "slide"
    }
   },
   "source": [
    "### A Simple Algorithm\n",
    "\n",
    "Computer scientists have devised this algorithm to perform division:  \n",
    "1. Put  0 in box #3\n",
    "2. Put the content of box #1 in box #4\n",
    "3. If content of #4 is >= than content of #2\n",
    "    1. Subtract #2 to #4 and place the result in #4\n",
    "    2. Add 1 to #3 and place the result in #3\n",
    "    3. Return to step 3\n",
    "4. HALT\n",
    "\n",
    "![](img/algo1.png)\n",
    "\n"
   ]
  },
  {
   "cell_type": "markdown",
   "id": "de221c1a",
   "metadata": {
    "slideshow": {
     "slide_type": "slide"
    }
   },
   "source": [
    "### A Simple Algorithm\n",
    "\n",
    "1. **Put  0 in box #3**\n",
    "2. Put the content of box #1 in box #4\n",
    "3. If content of #4 is >= than content of #2\n",
    "    1. Subtract #2 to #4 and place the result in #4\n",
    "    2. Add 1 to #3 and place the result in #3\n",
    "    3. Return to step 3\n",
    "4. HALT\n",
    "\n",
    "\n",
    "![](img/algo2.png)\n",
    "\n"
   ]
  },
  {
   "cell_type": "markdown",
   "id": "a14670cb",
   "metadata": {
    "slideshow": {
     "slide_type": "slide"
    }
   },
   "source": [
    "### A Simple Algorithm\n",
    "\n",
    "1. Put  0 in box #3\n",
    "2. **Put the content of box #1 in box #4**\n",
    "3. If content of #4 is >= than content of #2\n",
    "    1. Subtract #2 to #4 and place the result in #4\n",
    "    2. Add 1 to #3 and place the result in #3\n",
    "    3. Return to step 3\n",
    "4. HALT\n",
    "\n",
    "\n",
    "![](img/algo3.png)\n",
    "\n"
   ]
  },
  {
   "cell_type": "markdown",
   "id": "9795253e",
   "metadata": {
    "slideshow": {
     "slide_type": "slide"
    }
   },
   "source": [
    "### A Simple Algorithm\n",
    "\n",
    "1. Put  0 in box #3\n",
    "2. Put the content of box #1 in box #4\n",
    "3. **If content of #4 is >= than content of #2**\n",
    "    1. Subtract #2 to #4 and place the result in #4\n",
    "    2. Add 1 to #3 and place the result in #3\n",
    "    3. Return to step 3\n",
    "4. HALT\n",
    "\n",
    "\n",
    "![](img/algo4.png)\n"
   ]
  },
  {
   "cell_type": "markdown",
   "id": "a6efbd3e",
   "metadata": {
    "slideshow": {
     "slide_type": "slide"
    }
   },
   "source": [
    "### A Simple Algorithm\n",
    "\n",
    "1. Put  0 in box #3\n",
    "2. Put the content of box #1 in box #4\n",
    "3. If content of #4 is >= than content of #2\n",
    "    1. **Subtract #2 to #4 and place the result in #4**\n",
    "    2. Add 1 to #3 and place the result in #3\n",
    "    3. Return to step 3\n",
    "4. HALT\n",
    "\n",
    "\n",
    "![](img/algo5.png)\n"
   ]
  },
  {
   "cell_type": "markdown",
   "id": "43c0dd80",
   "metadata": {
    "slideshow": {
     "slide_type": "slide"
    }
   },
   "source": [
    "### A Simple Algorithm\n",
    "\n",
    "1. Put  0 in box #3\n",
    "2. Put the content of box #1 in box #4\n",
    "3. If content of #4 is >= than content of #2\n",
    "    1. **Subtract #2 to #4 and place the result in #4**\n",
    "    2. Add 1 to #3 and place the result in #3\n",
    "    3. Return to step 3\n",
    "4. HALT\n",
    "\n",
    "\n",
    "![](img/algo6.png)\n"
   ]
  },
  {
   "cell_type": "markdown",
   "id": "739a4ca4",
   "metadata": {
    "slideshow": {
     "slide_type": "slide"
    }
   },
   "source": [
    "### A Simple Algorithm\n",
    "\n",
    "1. Put  0 in box #3\n",
    "2. Put the content of box #1 in box #4\n",
    "3. If content of #4 is >= than content of #2\n",
    "    1. Subtract #2 to #4 and place the result in #4\n",
    "    2. **Add 1 to #3 and place the result in #3**\n",
    "    3. Return to step 3\n",
    "4. HALT\n",
    "\n",
    "\n",
    "![](img/algo7.png)\n"
   ]
  },
  {
   "cell_type": "markdown",
   "id": "45a5775f",
   "metadata": {
    "slideshow": {
     "slide_type": "slide"
    }
   },
   "source": [
    "### A Simple Algorithm\n",
    "\n",
    "1. Put  0 in box #3\n",
    "2. Put the content of box #1 in box #4\n",
    "3. If content of #4 is >= than content of #2\n",
    "    1. Subtract #2 to #4 and place the result in #4\n",
    "    2. Add 1 to #3 and place the result in #3\n",
    "    3. **Return to step 3**\n",
    "4. HALT\n",
    "\n",
    "\n",
    "![](img/algo7.png)\n"
   ]
  },
  {
   "cell_type": "markdown",
   "id": "b18411fb",
   "metadata": {
    "slideshow": {
     "slide_type": "slide"
    }
   },
   "source": [
    "### A Simple Algorithm\n",
    "\n",
    "1. Put  0 in box #3\n",
    "2. Put the content of box #1 in box #4\n",
    "3. **If content of #4 is >= than content of #2**\n",
    "    1. Subtract #2 to #4 and place the result in #4\n",
    "    2. Add 1 to #3 and place the result in #3\n",
    "    3. Return to step 3\n",
    "4. HALT\n",
    "\n",
    "\n",
    "![](img/algo8.png)\n"
   ]
  },
  {
   "cell_type": "markdown",
   "id": "3d0263e7",
   "metadata": {
    "slideshow": {
     "slide_type": "slide"
    }
   },
   "source": [
    "### A Simple Algorithm\n",
    "\n",
    "1. Put  0 in box #3\n",
    "2. Put the content of box #1 in box #4\n",
    "3. If content of #4 is >= than content of #2\n",
    "    1. **Subtract #2 to #4 and place the result in #4**\n",
    "    2. Add 1 to #3 and place the result in #3\n",
    "    3. Return to step 3\n",
    "4. HALT\n",
    "\n",
    "\n",
    "![](img/algo9.png)\n"
   ]
  },
  {
   "cell_type": "markdown",
   "id": "95a2a2d2",
   "metadata": {
    "slideshow": {
     "slide_type": "slide"
    }
   },
   "source": [
    "### A Simple Algorithm\n",
    "\n",
    "1. Put  0 in box #3\n",
    "2. Put the content of box #1 in box #4\n",
    "3. If content of #4 is >= than content of #2\n",
    "    1. Subtract #2 to #4 and place the result in #4\n",
    "    2. Add 1 to #3 and place the result in #3\n",
    "    3. **Return to step 3**\n",
    "4. HALT\n",
    "\n",
    "\n",
    "![](img/algo10.png)\n"
   ]
  },
  {
   "cell_type": "markdown",
   "id": "df3dcda3",
   "metadata": {
    "slideshow": {
     "slide_type": "slide"
    }
   },
   "source": [
    "### A Simple Algorithm\n",
    "\n",
    "1. Put  0 in box #3\n",
    "2. Put the content of box #1 in box #4\n",
    "3. **If content of #4 is >= than content of #2**\n",
    "    1. Subtract #2 to #4 and place the result in #4\n",
    "    2. Add 1 to #3 and place the result in #3\n",
    "    3. Return to step 3\n",
    "4. HALT\n",
    "\n",
    "\n",
    "![](img/algo10.png)\n"
   ]
  },
  {
   "cell_type": "markdown",
   "id": "091af1ec",
   "metadata": {
    "slideshow": {
     "slide_type": "slide"
    }
   },
   "source": [
    "### A Simple Algorithm\n",
    "\n",
    "1. Put  0 in box #3\n",
    "2. Put the content of box #1 in box #4\n",
    "3. If content of #4 is >= than content of #2\n",
    "    1. Subtract #2 to #4 and place the result in #4\n",
    "    2. Add 1 to #3 and place the result in #3\n",
    "    3. Return to step 3\n",
    "4. **HALT**\n",
    "\n",
    "\n",
    "![](img/algo11.png)\n"
   ]
  },
  {
   "cell_type": "markdown",
   "id": "fa1f7c87",
   "metadata": {
    "slideshow": {
     "slide_type": "slide"
    }
   },
   "source": [
    "### Flowchart\n",
    "\n",
    "- The algorithm can also be written as a FLOW CHART\n",
    "- The **flow chart** is a graphical rapresentation of the   (a picture that helps organize your thoughts)\n",
    "-  It uses a collection of basic symbols that are used to organize your algorithm\n",
    "-  These symbols are connected by arrows that show how the algorithm “flows”"
   ]
  },
  {
   "cell_type": "markdown",
   "id": "9529dc35",
   "metadata": {
    "slideshow": {
     "slide_type": "slide"
    }
   },
   "source": [
    "### Flowchart Symbols\n",
    "\n",
    "<img src=\"img/flow.png\" alt=\"drawing\"  width=\"1400\" />"
   ]
  },
  {
   "cell_type": "markdown",
   "id": "83d6b373",
   "metadata": {
    "slideshow": {
     "slide_type": "slide"
    }
   },
   "source": [
    "### An everyday example\n",
    "\n",
    "Write a simple algorithm for making a chocolate cake:\n",
    "\n",
    "**Ingredients**: 4 oz. chocolate, 1 cup butter, 2 cups sugar, 3 eggs, 1 tsp. vanilla, 1 cup flour\n",
    "\n",
    "**Instructions**: Melt chocolate and butter. Stir sugar into melted chocolate. Stir in eggs and vanilla. Mix in flour. Spread mix in greased pan. Bake at 180 degrees Celsius for 40 minutes or until inserted stick comes out almost clear. Cool in pan before eating. \n",
    "\n",
    "\n",
    "![](img/chocolate.jpg)\n"
   ]
  },
  {
   "cell_type": "markdown",
   "id": "7b9a2e96",
   "metadata": {
    "slideshow": {
     "slide_type": "slide"
    }
   },
   "source": [
    "### A Possible Solution\n",
    "\n",
    "\n",
    "<img src=\"img/cake.png\" alt=\"drawing\" width=\"500\"/>"
   ]
  },
  {
   "cell_type": "markdown",
   "id": "1b5da292",
   "metadata": {
    "slideshow": {
     "slide_type": "slide"
    }
   },
   "source": [
    "### In summary\n",
    "\n",
    "Coding is a way to operationalize the achievement of a certain (computational) goal  \n",
    " - Identify the tasks to be performed\n",
    " - Figure out how how these tasks can be achieved using basic operations that the computer can do \n",
    " - These basic operations can follow a single path or multiple paths, depending on conditions\n",
    "     - Pseudocode and flowcharts are extremely useful at this stage\n",
    " - Usually there is no just one way to perform a task, but each have their trade-offs:\n",
    "     - Faster to write/slower to execute\n",
    "     - Faster to execute/using more memory\n",
    "\n",
    " "
   ]
  },
  {
   "cell_type": "markdown",
   "id": "8ce5cc23",
   "metadata": {
    "slideshow": {
     "slide_type": "slide"
    }
   },
   "source": [
    "### In summary\n",
    "\n",
    "- Contrary to the examples above you will have Python as your tool\n",
    "     - Lots of built-in operations and libraries that already address a multitude of use-cases\n",
    "          - Still need a lot of work to adapt to each research question and dataset\n",
    "          - Reality is messy $\\rightarrow$ data that represents it is messy\n",
    "     - Continuously improved by a very active community \n",
    "         - The productivity of  IT led huge amount of resources and very bright people to be devoted to it\n",
    " - In this course we will get to know some basic (but pretty powerful) operations and libraries, and how they can be combined together"
   ]
  },
  {
   "cell_type": "markdown",
   "id": "d7f9f3df",
   "metadata": {
    "slideshow": {
     "slide_type": "slide"
    }
   },
   "source": [
    "### Homework\n",
    "\n",
    "1. Draw the flowchart for the division algorithm presented in the slides\n",
    "\n",
    "2. Draw the flow-chart of an algorithm that finds the maximum of three numbers A, B and C\n",
    "provided by the user\n",
    "\n",
    "3. Draw the flow-chart of an algorithm that returns the sum of three consecutive numbers\n",
    "starting from N, which is provided by the user. Ex: if N=5 the output will be 5+6+7 = 18\n",
    "\n",
    "4. Draw the flow-chart of an algorithm that sums the numbers given by the user, until the\n",
    "user provides zero. Then, the algorithm ends getting the result of the sum"
   ]
  },
  {
   "cell_type": "markdown",
   "id": "4dec6924",
   "metadata": {
    "slideshow": {
     "slide_type": "slide"
    }
   },
   "source": [
    "### Notes\n",
    "**Book references:**  \n",
    "Ch.1 of [Python for Data Analysis](https://wesmckinney.com/book/)  \n",
    "Preface of [Python Data Science Handbook](https://jakevdp.github.io/PythonDataScienceHandbook/) \n",
    "\n",
    "\n",
    "**Office Hours:**  \n",
    "See on my [website](http://www.dgdi.me/#teaching)\n",
    "\n",
    "\n",
    "**Author:** Duccio Gamannossi degl'Innocenti  \n",
    "[Web: https://www.dgdi.me/](https://www.dgdi.me/)  \n",
    "[Mail: duccio.gamannossi@unipd.it](mailto:duccio.gamannossi@unipd.it)  "
   ]
  }
 ],
 "metadata": {
  "celltoolbar": "Slideshow",
  "kernelspec": {
   "display_name": "codepy",
   "language": "python",
   "name": "codepy"
  },
  "language_info": {
   "codemirror_mode": {
    "name": "ipython",
    "version": 3
   },
   "file_extension": ".py",
   "mimetype": "text/x-python",
   "name": "python",
   "nbconvert_exporter": "python",
   "pygments_lexer": "ipython3",
   "version": "3.9.18"
  }
 },
 "nbformat": 4,
 "nbformat_minor": 5
}

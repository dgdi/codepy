{
 "cells": [
  {
   "cell_type": "markdown",
   "id": "d21a2949",
   "metadata": {},
   "source": [
    "<a target=\"_blank\" href=\"https://colab.research.google.com/github/dgdi/codepy_UNIPD/blob/main/notebooks/lecture01_introSetup.ipynb\">\n",
    "  <img src=\"https://colab.research.google.com/assets/colab-badge.svg\" alt=\"Open In Colab\"/>\n",
    "</a>"
   ]
  },
  {
   "cell_type": "markdown",
   "id": "70e014a8-4f47-4d2d-becc-fb6b149a478d",
   "metadata": {},
   "source": [
    "# Lecture 1: Introduction and Setup\n",
    "\n",
    "#### Coding: Introduction to Python - Applied Economics\n",
    "#### Laboratory: Coding - Accounting, Finance and Business Consulting"
   ]
  },
  {
   "cell_type": "markdown",
   "id": "d875f43b",
   "metadata": {
    "slideshow": {
     "slide_type": "slide"
    }
   },
   "source": [
    "### Coding\n",
    "\n",
    "* In this course you will learn the fundamentals of coding\n",
    "* Coding is how we communicate with computers\n",
    "  + **Allows you to tell a computer what actions to perform**\n",
    "  + Making you able to exploit the opportunities offered by computers\n",
    "* We will mainly focus on data analysis\n",
    "  + Digital revolution brought unprecedented amount of data and analytics is the key to extract knowledge/value from it"
   ]
  },
  {
   "cell_type": "markdown",
   "id": "97f0abb1",
   "metadata": {
    "slideshow": {
     "slide_type": "slide"
    }
   },
   "source": [
    "### This Course - Timetable and Office Hours\n",
    "\n",
    "**Coding: Introduction to Python**\n",
    "\n",
    "Monday\n",
    "16:30 - 18:30\n",
    "\n",
    "**Laboratory: Coding**\n",
    "\n",
    "Tuesday\n",
    "12:30 - 14:30\n",
    "\n",
    "**Office Hours:**\n",
    "\n",
    "Tuesday\n",
    "15:00 - 17:00\n",
    "\n",
    "Dsea, via del Santo 33, first office on the left entering the Levi Cases inner garden"
   ]
  },
  {
   "cell_type": "markdown",
   "id": "50f59b44",
   "metadata": {
    "slideshow": {
     "slide_type": "slide"
    }
   },
   "source": [
    "### This Course - Objective and Topics\n",
    "\n",
    "This is an introductory course aiming at giving you the tools needed to do a simple data analysis using the Python programming language\n",
    "\n",
    "Tentative list of topics:\n",
    "\n",
    "- Setting up your python environment\n",
    "- Introduction to algorithms\n",
    "- Intro to data analysis\n",
    "- Numpy and main data types \n",
    "- Pandas and dataframes\n",
    "- Data import and export\n",
    "- Loops and Iteration\n",
    "- Data description and visualization\n",
    "- Data analysis example\n"
   ]
  },
  {
   "cell_type": "markdown",
   "id": "e84ca06e",
   "metadata": {
    "slideshow": {
     "slide_type": "slide"
    }
   },
   "source": [
    "### This Course - Evaluation - Notions\n",
    "\n",
    "Pass/Fail exam at the LEM\n",
    "\n",
    "Closed-ended multiple-choice questions\n",
    "\n",
    "* Testing your knowledge of the language \n",
    "    - Given `var_a = 'True'`, what type of data is the variable `var_a` ?   \n",
    "    1. Boolean\n",
    "    2. String\n",
    "    3. Integer\n",
    "    4. Float\n"
   ]
  },
  {
   "cell_type": "markdown",
   "id": "121b8eb3",
   "metadata": {
    "slideshow": {
     "slide_type": "slide"
    }
   },
   "source": [
    "### This Course - Evaluation - Understanding\n",
    "\n",
    "Pass/Fail exam at the LEM\n",
    "\n",
    "Closed-ended multiple-choice questions\n",
    "\n",
    "* Testing the understanding of the language   \n",
    "    - what is the output of `var_a = 1; var_b = 2; var_c = var_a + var_b; print(var_c)`?\n",
    "    1. 1\n",
    "    2. 2\n",
    "    3. 3\n",
    "    4. \"error\""
   ]
  },
  {
   "cell_type": "markdown",
   "id": "c120cc29",
   "metadata": {
    "slideshow": {
     "slide_type": "slide"
    }
   },
   "source": [
    "### This Course - Evaluation - Errors\n",
    "\n",
    "Pass/Fail exam at the LEM\n",
    "\n",
    "Closed-ended multiple-choice questions\n",
    "\n",
    "* Testing the ability to spot errors in the code   \n",
    "    - what is the first error that will be raised by `var_a = 1; var_b = \"two\"; var_c = var_a + var_b; print(var_d)`?\n",
    "    1. `NameError: name 'var_d' is not defined\n",
    "    2. TypeError: unsupported operand type(s) for +: 'int' and 'str'\n",
    "    3. TypeError: unsupported operand type(s) for +: 'float' and 'str'\n",
    "    4. SyntaxError: EOL while scanning string literal"
   ]
  },
  {
   "cell_type": "markdown",
   "id": "f0c06de0",
   "metadata": {
    "slideshow": {
     "slide_type": "slide"
    }
   },
   "source": [
    "### This Course - How to prepare?\n",
    "\n",
    "The course is not designed to be absorbed passively\n",
    "\n",
    "Clearly the basis is reading, understanding and being able to recall the material\n",
    "\n",
    "The material is going to be available in Notebook format (`.ipynb` files) that include explanations, code, and code output \n",
    "   - You will be able to run the code and modify it to test your understanding\n",
    "As you progress with the material you should experiment with the tools and syntax we cover\n",
    "   - Simply reading the material will not be enough\n",
    "   - Coding is a practical endeavour \n",
    "      - You can gain \"muscle\" memory from doing things instead of just reading and try to memorize\n",
    "I will be proposing exercises for each topic\n",
    "   - Solving them is very important to test your understanding\n",
    "   - Crucial to get prepared for the exam\n",
    "   - Usually teach you how to do basic (and crucial) tasks that you might need in other courses\n"
   ]
  },
  {
   "cell_type": "markdown",
   "id": "1c243623",
   "metadata": {
    "slideshow": {
     "slide_type": "slide"
    }
   },
   "source": [
    "### This Course - Books and Additional Material\n",
    "\n",
    "The course relies on material from a variety of sources, such as books, software documentation, online tutorials, blogposts, etc.\n",
    "\n",
    "Here you can find two ***great and free*** books that cover the material of this course and much more:\n",
    "\n",
    "[Python for Data Analysis](https://wesmckinney.com/book/) by Wes McKinney\n",
    "\n",
    "[Python Data Science Handbook](https://jakevdp.github.io/PythonDataScienceHandbook/) by Jake VanderPlas\n",
    "\n",
    "During the course, I will provide links to additional material that might help in understanding the topics covered"
   ]
  },
  {
   "cell_type": "markdown",
   "id": "8b8dc33c",
   "metadata": {
    "slideshow": {
     "slide_type": "slide"
    }
   },
   "source": [
    "### Coding and Algorithms\n",
    "\n",
    "Coding involves crafting a set of computer-executable instructions.\n",
    " * When we code we define an **algorithm** to be performed by the computer\n",
    " * An algorithm is a set of instructions for solving a problem or accomplishing a task"
   ]
  },
  {
   "cell_type": "markdown",
   "id": "4afac706",
   "metadata": {
    "slideshow": {
     "slide_type": "slide"
    }
   },
   "source": [
    "### Algorithms and Data Analysis\n",
    "\n",
    "* A data analysis is a set of algorithms to be performed on data:\n",
    "    - Importing data\n",
    "    - Cleaning data\n",
    "    - Describing data\n",
    "    - Visualizing data\n",
    "* Typically, you start this process with specific questions you seek to address through the data\n",
    "   - Define the steps needed to answer those questions\n",
    "    - Write and execute the code to obtain your answers\n",
    "    - Through this process, you'll gain deeper insights into both the data and the questions you're investigating\n",
    "        - Refine your initial questions and the methods to resolve them\n",
    "    - This is an iterative process that leads to the final analysis\n",
    "    - The final analysis will be a reproducible set of algorithms allowing to draw knowledge from data\n",
    "    - Answers to your questions will be descriptive statistics, plots, tables, statistical tests, etc."
   ]
  },
  {
   "cell_type": "markdown",
   "id": "eba99297",
   "metadata": {
    "slideshow": {
     "slide_type": "slide"
    }
   },
   "source": [
    "### The Tools of Data Analysis in Python\n",
    "\n",
    "We will start presenting the coding tools we will use in the course and how to set them up\n",
    "\n",
    "* Main tools: Python, Jupyter Notebook\n",
    "* Auxiliary tools: Anaconda, Colab, VLEM\n",
    "\n",
    " - Focus on the role of each tool\n",
    " - Learn syntax to perform basic actions \n"
   ]
  },
  {
   "cell_type": "markdown",
   "id": "e9d46382",
   "metadata": {
    "slideshow": {
     "slide_type": "slide"
    }
   },
   "source": [
    "\n",
    "### Python\n",
    "**Python** is a general-purpose programming language. Created in 80s, it is now one of the most popular languages in the world.\n",
    "\n",
    "- Not the fastest but easy to use and very versatile  \n",
    "    - Can be used for web development, videogames, edit videos/music, create Large Language Models (LLM) such as Chat GPT, manage networks, etc.  \n",
    "    - Used and supported extensively by Internet services and high-tech companies: Google, Netflix, Meta, Amazon, Reddit  \n",
    "- Python versatility and huge community led to the development of endless extensions  \n",
    "    - Crucial role in today's data analyis landscape thanks to many data analysis tools (to make it easy to write/debug/share of analysis) and libraries (to clean/analyze/visualize data)    \n",
    "- Python developers are in huge demand in the job market  \n",
    "    - Knowing python can improve your efficiency and efficacy in any job that involve a computer   \n",
    "    - Most of the Deep Learning and LLM tools that revolutionized the data analysis environment in later years are developed in Python "
   ]
  },
  {
   "cell_type": "markdown",
   "id": "138db68c",
   "metadata": {
    "slideshow": {
     "slide_type": "slide"
    }
   },
   "source": [
    "### Python popularity\n",
    "\n",
    "![python popularity](img/pypop.png)\n",
    "\n",
    "Based on tutorial searches on Google (more info [here](https://pypl.github.io/PYPL.html))\n",
    "\n"
   ]
  },
  {
   "cell_type": "markdown",
   "id": "7b1a657c",
   "metadata": {
    "slideshow": {
     "slide_type": "slide"
    }
   },
   "source": [
    "### Tools for Data Analysis - Python\n",
    "\n",
    "**Python:** Provides a command-line Python interpreter \n",
    "   - Takes your code and translates it to the processor so that can be executed\n",
    "   - Its usual inputs are scripts that perform a set of pre-defined actions\n",
    "   - Not well suited to perform data anlysis that involves continuous exploration\n",
    "       - Read the data, analyze it to understand some aspect, visualize the result, perform sub-analysis on the result or on the riginal data based on what has been leart from the results and so on"
   ]
  },
  {
   "cell_type": "markdown",
   "id": "2d5e3ea1",
   "metadata": {
    "slideshow": {
     "slide_type": "slide"
    }
   },
   "source": [
    "### Tools for Data Analysis - Jupiter\n",
    "\n",
    "**[IPython/Jupyter Notebooks](https://jupyter.org/):** Extend the Python interpreter making it more usable for scientific computing\n",
    "\n",
    "   - Provides and interactive command-line terminal for Python\n",
    "   - Allows read-eval-print loop (REPL) to ease the interact with the data \n",
    "   - In 2015, the IPython became Jupyter Notebook that provides a browser-based control panel \n",
    "   - While Jupyter notebooks are run in a browser, they connect to a computational engine (the kernel) \n",
    "       - can be used not only with Python but also with R, Julia, SageMath\n",
    "   - Offers a more convenient text editor, include formatted text, static and dynamic visualizations, mathematical equations, JavaScript widgets, and much more. \n",
    "   - Eases data analysis reproducibility by facilitating other people to execute the code on their own systems\n",
    "   - This presentation and the course book are Jupyter notebooks"
   ]
  },
  {
   "cell_type": "markdown",
   "id": "f94dbd12",
   "metadata": {
    "slideshow": {
     "slide_type": "slide"
    }
   },
   "source": [
    "### Tools for Data Analysis - IDEs\n",
    "\n",
    "**IDEs** (Integrated Development Environment): are applications making programming easier by combining a suite of tools to develop code: code highlighting, support for writing (AI-completion), rendering, debugging, etc.\n",
    "   - We will have a look at [Microsoft Visual Studio code (VS code)](https://code.visualstudio.com/) because it is integrated with [Copilot](https://adoption.microsoft.com/en-us/copilot/), an AI-tool to write code\n",
    "   "
   ]
  },
  {
   "cell_type": "markdown",
   "id": "fedf59cd",
   "metadata": {
    "slideshow": {
     "slide_type": "slide"
    }
   },
   "source": [
    "### Setting up your coding environment\n",
    "\n",
    "We will see three ways to set up your coding environment:\n",
    "\n",
    "- A local installation on your laptop\n",
    "- Using the VLEM of the dSEA\n",
    "- Using Google Colab\n",
    "\n"
   ]
  },
  {
   "cell_type": "markdown",
   "id": "1d206ae6",
   "metadata": {
    "slideshow": {
     "slide_type": "slide"
    }
   },
   "source": [
    "### Set up the coding environment on your laptop\n",
    "\n",
    "We will see how to do so using ***Anaconda***, a famous python and R distribution for data science\n",
    "\n",
    "- Need to install all the software on your laptop\n",
    "   - **PROs** No internet needed to run the code, no constraints on what to install, all your files readily available, all the computational power of your laptop \n",
    "   - **CONs** Installation requires a bit of work, some knowledge of how a computer works and can entail unexpected problems\n",
    "- Probably the best option\n",
    "    - Is the most flexible and powerful, opens the door to many other tools\n",
    "    - You will develop a bit of practice on some valuable computer science skills\n",
    "\n"
   ]
  },
  {
   "cell_type": "markdown",
   "id": "29ccd015",
   "metadata": {
    "slideshow": {
     "slide_type": "slide"
    }
   },
   "source": [
    "### Use an environment in the cloud\n",
    "\n",
    "- Rely on a remote server that has ***some*** of the needed software already installed\n",
    "    - **PROs** Avoid all the installation difficulties and start to code \"right away\"  \n",
    "    - **CONs** Requires an internet connection, less flexible\n",
    "- We will see two options:\n",
    "    - Aula Virtuale **VLEM** is a platform developed by the dSEA to support the teaching of programming and data analysis\n",
    "    - **Google Colab** is a free service offered by Google that provides a Jupyter notebook environment in the cloud\n"
   ]
  },
  {
   "cell_type": "markdown",
   "id": "4b2f2ea6",
   "metadata": {
    "slideshow": {
     "slide_type": "slide"
    }
   },
   "source": [
    "### Use the coding environment on the VLEM\n",
    "\n",
    "The dSEA provides a Virtual Learning Environment that allows you to run Jupyter notebooks on a remote server\n",
    "\n",
    "Our IT has set up a cloud instance with all the needed tools for this course  \n",
    "* The instance you should use is the VLEM-BASE \n",
    "* Information on the VLEM is available [here](https://www.economia.unipd.it/SERVIZI-PER-GLI-STUDENTI/home-servizi-agli-studenti/laboratorio-virtuale-vlem-informazioni-e-modalit%C3%A0-di-accesso) (in Italian, but google translate works well)\n",
    "* To access the VLEM is necessary to [book a slot](https://vlabbooking.vdi.ict.unipd.it/)\n",
    "\n",
    "- **PROs** No need to install ***anything*** (is it a pro if your aim is learning?) \n",
    "- **CONs** Need an internet connection, need to book a slot, limited time (30 minutes), cannot store anything and any modification to the environment is lost\n"
   ]
  },
  {
   "cell_type": "markdown",
   "id": "35038e3d",
   "metadata": {
    "slideshow": {
     "slide_type": "slide"
    }
   },
   "source": [
    "### Use a coding environment on Google Colab\n",
    "\n",
    "There are many options for coding in Python on the cloud   \n",
    "- Google [Google Colab](https://colab.research.google.com/) is one of the best \n",
    "- Offers a free tier with your Google account (that also include GPUs) and its paid tier has an extremely rich offer (GPU for AI)\n",
    "- Google Colab instances come with only a minimal set of pre-installed packages\n",
    "- Google instances are temporary, if you stay idle for too much or you close your window your instance gets deleted\n",
    "    - But you can connect it to your Google Drive to save your notebooks and coding environment\n",
    "- Most of the slides/notebooks we will use include a “Launch notebook” button that will directly run them in Colab\n",
    "- **PROs** Always ready with one click, possibility of storing the notebooks and personalizing the environment, a framework used by professionals (great for your experience)\n",
    "- **CONs** Need an internet connection, need some set up to have a semi-permanent environment (but we will see it together), the interface is a bit different from the standard Jupyter notebook\n"
   ]
  },
  {
   "cell_type": "markdown",
   "id": "4340cca2",
   "metadata": {
    "slideshow": {
     "slide_type": "slide"
    }
   },
   "source": [
    "### Setting up Python and Jupyter on your computer using Anaconda \n",
    "\n",
    "Anaconda is a distribution (a collection of software that is pre-configured to work together) for Python and R that is focused on data science\n",
    "* Simplifies deployment and is focused on scientific computing and data analysis\n",
    "* Has a graphical interface to manage libraries and environments\n",
    "* Also installs Jupyter, so that you edit notebooks\n",
    "* Provides many other tools for data science\n",
    "* Has a comprehensive and detailed [documentation](https://docs.anaconda.com/free/), a lively [community](https://community.anaconda.cloud/) plus a massive knwoledge base on  [Stackoverflow](https://stackoverflow.com/questions/tagged/anaconda)\n",
    "\n"
   ]
  },
  {
   "cell_type": "markdown",
   "id": "9bfca488",
   "metadata": {
    "slideshow": {
     "slide_type": "slide"
    }
   },
   "source": [
    "### Installing Anaconda\n",
    "\n",
    "We will now see how to install Anaconda on your computer following the [installation docs](https://docs.anaconda.com/free/anaconda/install/)\n"
   ]
  },
  {
   "cell_type": "markdown",
   "id": "fc63e8b2",
   "metadata": {
    "slideshow": {
     "slide_type": "slide"
    }
   },
   "source": [
    "### Command Line Interface and Graphical Interface\n",
    "\n",
    "Anaconda can be used through the command line interface (CLI) or the graphical interface (GUI)\n",
    "* Each have their advantages and disadvantages \n",
    "    * The CLI is more powerful and more flexible  \n",
    "    * The GUI is easier to use and more intuitive\n",
    "* For this course the GUI is enough, but start getting your head around the CLI, we will need to use it later on"
   ]
  },
  {
   "cell_type": "markdown",
   "id": "d8087d3e",
   "metadata": {
    "slideshow": {
     "slide_type": "slide"
    }
   },
   "source": [
    "### Anaconda Navigator\n",
    "\n",
    "Anaconda Navigator is the GUI of Anaconda\n",
    "* It allows you to manage your environments and libraries\n",
    "\n",
    "To get started with Navigator we will use this [anaconda doc](https://docs.anaconda.com/free/navigator/getting-started/###navigator-starting-navigator)\n",
    "\n"
   ]
  },
  {
   "cell_type": "markdown",
   "id": "4a4b5c70",
   "metadata": {
    "slideshow": {
     "slide_type": "slide"
    }
   },
   "source": [
    "### Setting up a python environment\n",
    "\n",
    "An environment is the context in which a Python program runs, it specifies:\n",
    "* What is the interpreter to be used   \n",
    "    * In this case the default version of Python\n",
    "* Defines its fundamental settings\n",
    "    * Where the libraries are stored"
   ]
  },
  {
   "cell_type": "markdown",
   "id": "29a1f9f6",
   "metadata": {
    "slideshow": {
     "slide_type": "slide"
    }
   },
   "source": [
    "### Setting up the environment for this course: codepy\n",
    "\n",
    "To set up the environment to be used in this course \n",
    "\n",
    "1. Open Anaconda Navigator\n",
    "2. Click on the Environments tab on the left shoulder\n",
    "3. Click on 'create', name the new environment `codepy` select Python and the latest version \n",
    "4. Click on 'create' and wait for the environment to be created (it may take a while, it is downloading and installing a lot of stuff)\n",
    "5. Click on the 'Home' tab on the left shoulder\n",
    "6. Select the `codepy` environment from the drop down menu\n",
    "7. Click on 'install' on the Jupyter Notebook tile\n",
    "11. Click on 'install' on the VS Code tile (we will use it later on)\n",
    "\n",
    "Congrats! You have set up your first Anaconda Python environment"
   ]
  },
  {
   "cell_type": "markdown",
   "id": "a5eda218",
   "metadata": {
    "slideshow": {
     "slide_type": "slide"
    }
   },
   "source": [
    "### Creating a Jupyter notebook\n",
    "\n",
    "To create your first Jupyter Notebook\n",
    "1. Open Anaconda Navigator\n",
    "2. Go to the home tab\n",
    "3. Select the `codepy` environment\n",
    "4. Click on 'launch' on the Jupyter Notebook tile\n",
    "5. A new tab will open in your browser listing the files in your home directory\n",
    "6. It is conveninet to store all your notebooks in a single directory  \n",
    "    * Click on 'New' on the top right corner and create a new directory\n",
    "    * Select the \"Untitled folder\" just created and click the rename button on the top left\n",
    "    * Rename it `codepy`\n",
    "    * Click on the `codepy` directory\n",
    "7. Click on 'New' on the top right corner and select \"codepy\" from the drop down menu\n",
    "8. You can now start editing your first notebook"
   ]
  },
  {
   "cell_type": "markdown",
   "id": "6bcefb41",
   "metadata": {
    "slideshow": {
     "slide_type": "slide"
    }
   },
   "source": [
    "### Install a package in Anaconda\n",
    "\n",
    "1. Open Navigator and select the environment tab\n",
    "2. Select the `codepy` environment\n",
    "3. Click on the dropdown menu and select not installed\n",
    "4. Search for the library you are interested in, let's say `rise`\n",
    "5. Click on the checkbox on the left of the `rise` package and apply at the bottom of the window\n",
    "6. Now if you change the dropdown menu to installed you will see the `rise` package listed\n",
    "7. You can now import the package in your notebook and use all its functionalities\n"
   ]
  },
  {
   "cell_type": "markdown",
   "id": "b48a20ae",
   "metadata": {
    "slideshow": {
     "slide_type": "slide"
    }
   },
   "source": [
    "### Install the packages needed for this course in Anaconda\n",
    "\n",
    "The packages needed for this course are:\n",
    "\n",
    "* `numpy`\n",
    "* `pandas`\n",
    "* `matplotlib`\n",
    "* `seaborn`\n",
    "\n",
    "install them in the codepy environment following the steps above\n",
    "    \n"
   ]
  },
  {
   "cell_type": "markdown",
   "id": "526fc141",
   "metadata": {
    "slideshow": {
     "slide_type": "slide"
    }
   },
   "source": [
    "### Setting up the environment in Colab\n",
    "\n",
    "If you are going to use Colab in this course (even just on occasion), it is worth to set up a semi-permanent environment\n",
    "\n",
    "While the set-up of Anaconda is a standard procedure and there is official documentation, what we are doing is something a bit more custom, so we will make follow [this](https://github.com/dgdi/codepy_UNIPD/blob/main/notebooks/colab_gdrivelib_setup.ipynb) tutorial.\n"
   ]
  },
  {
   "cell_type": "markdown",
   "id": "eeee87ab",
   "metadata": {
    "slideshow": {
     "slide_type": "slide"
    }
   },
   "source": [
    "### Homework\n",
    "\n",
    "Next week we will start coding, so you need to set up your environment\n",
    "\n",
    "My Earnest advice is to do all three set-ups\n",
    " * Each has its pros and cons \n",
    "    * You will be able to choose the one you like the most\n",
    "    * You will be able to use the one that is more convenient for the task at hand\n",
    "    * Some things we will see are only available in one of the three\n",
    " * You will learn a lot by doing so\n",
    "    * On topics that are crucial for your future career\n",
    "    * On tools that can widen your horizon and make you more efficient\n",
    "\n",
    "\n"
   ]
  },
  {
   "cell_type": "markdown",
   "id": "4dec6924",
   "metadata": {
    "slideshow": {
     "slide_type": "slide"
    }
   },
   "source": [
    "### Notes\n",
    "\n",
    "Author: Duccio Gamannossi degl'Innocenti \n",
    "\n",
    "[Web: https://www.dgdi.me/](https://www.dgdi.me/)\n",
    "\n",
    "[Mail: duccio.gamannossi@unipd.it](mailto:duccio.gamannossi@unipd.it)\n",
    "\n",
    "**Office Hours:**\n",
    "\n",
    "Tuesday\n",
    "15:00 - 17:00\n",
    "\n",
    "Dsea via del Santo 33, first office on the left entering the Levi Cases inner garden"
   ]
  },
  {
   "cell_type": "code",
   "execution_count": 1,
   "id": "a2b890c3",
   "metadata": {},
   "outputs": [
    {
     "name": "stdout",
     "output_type": "stream",
     "text": [
      "[NbConvertApp] Converting notebook lecture01_introSetup.ipynb to slides\n",
      "[NbConvertApp] Writing 834197 bytes to lecture01_introSetup.slides.html\n"
     ]
    },
    {
     "data": {
      "application/javascript": [
       "window.open(\"./lecture01_introSetup.slides.html\");"
      ],
      "text/plain": [
       "<IPython.core.display.Javascript object>"
      ]
     },
     "metadata": {},
     "output_type": "display_data"
    }
   ],
   "source": [
    "lecture_n = \"lecture01_introSetup\"\n",
    "notebook_name = f'{lecture_n}.ipynb'\n",
    "slides_name = f'{lecture_n}.slides.html'\n",
    "!jupyter nbconvert --to slides $notebook_name --output $lecture_n --embed-images --SlidesExporter.reveal_scroll=True --SlidesExporter.reveal_theme=\"white\" --SlidesExporter.reveal_number=\"c/t\" \n",
    "import IPython\n",
    "def window_open(url):\n",
    "    IPython.display.display(IPython.display.Javascript('window.open(\"{url}\");'.format(url=url)))\n",
    "window_open(f'./{slides_name}')\n"
   ]
  },
  {
   "cell_type": "code",
   "execution_count": null,
   "id": "ed1d49bb",
   "metadata": {},
   "outputs": [],
   "source": []
  }
 ],
 "metadata": {
  "celltoolbar": "Slideshow",
  "kernelspec": {
   "display_name": "codepy",
   "language": "python",
   "name": "codepy"
  },
  "language_info": {
   "codemirror_mode": {
    "name": "ipython",
    "version": 3
   },
   "file_extension": ".py",
   "mimetype": "text/x-python",
   "name": "python",
   "nbconvert_exporter": "python",
   "pygments_lexer": "ipython3",
   "version": "3.9.18"
  }
 },
 "nbformat": 4,
 "nbformat_minor": 5
}
